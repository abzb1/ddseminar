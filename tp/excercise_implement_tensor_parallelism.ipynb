{
 "cells": [
  {
   "cell_type": "code",
   "execution_count": null,
   "metadata": {},
   "outputs": [],
   "source": [
    "import random\n",
    "\n",
    "import numpy as np\n",
    "\n",
    "import torch"
   ]
  },
  {
   "cell_type": "code",
   "execution_count": null,
   "metadata": {},
   "outputs": [],
   "source": [
    "# set seed for reproducibility\n",
    "\n",
    "np.random.seed(0)\n",
    "torch.manual_seed(0)\n",
    "torch.backends.cudnn.deterministic = True\n",
    "torch.manual_seed(0)\n",
    "random.seed(0)"
   ]
  },
  {
   "cell_type": "code",
   "execution_count": null,
   "metadata": {},
   "outputs": [],
   "source": [
    "x = torch.rand((4,4))\n",
    "w1 = torch.rand((4,4))\n",
    "w2 = torch.rand((4,4))\n",
    "x, w1, w2"
   ]
  },
  {
   "cell_type": "code",
   "execution_count": null,
   "metadata": {},
   "outputs": [],
   "source": [
    "def get_original_result(input_data, weight1, weight2):\n",
    "    a1 = torch.matmul(input_data, weight1)\n",
    "    a2 = torch.matmul(a1, weight2)\n",
    "    return a2\n",
    "\n",
    "original = get_original_result(x, w1, w2)"
   ]
  },
  {
   "cell_type": "code",
   "execution_count": null,
   "metadata": {},
   "outputs": [],
   "source": [
    "def get_tensor_parallel_result(data_input, w1, w2):\n",
    "\n",
    "    # column-wise split w1\n",
    "    w1_1, w1_2 = w1.split(2, dim=1)\n",
    "\n",
    "    # row-wise split w2\n",
    "    w2_1, w2_2 = w2.split(2, dim=0)\n",
    "\n",
    "    # upper side result\n",
    "    # your code starts here\n",
    "    upper_side_result = ?\n",
    "    # your code ends here\n",
    "\n",
    "    # lower side result\n",
    "    # your code starts here\n",
    "    lower_side_result = ?\n",
    "    # your code ends here\n",
    "\n",
    "    reduced_result = upper_side_result + lower_side_result\n",
    "\n",
    "    return reduced_result\n",
    "\n",
    "tp_result = get_tensor_parallel_result(x, w1, w2)"
   ]
  },
  {
   "cell_type": "code",
   "execution_count": null,
   "metadata": {},
   "outputs": [],
   "source": [
    "original, tp_result"
   ]
  }
 ],
 "metadata": {
  "kernelspec": {
   "display_name": "torch110",
   "language": "python",
   "name": "python3"
  },
  "language_info": {
   "codemirror_mode": {
    "name": "ipython",
    "version": 3
   },
   "file_extension": ".py",
   "mimetype": "text/x-python",
   "name": "python",
   "nbconvert_exporter": "python",
   "pygments_lexer": "ipython3",
   "version": "3.9.7"
  },
  "orig_nbformat": 4
 },
 "nbformat": 4,
 "nbformat_minor": 2
}
