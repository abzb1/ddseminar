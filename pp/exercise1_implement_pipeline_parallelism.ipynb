{
 "cells": [
  {
   "attachments": {},
   "cell_type": "markdown",
   "metadata": {},
   "source": [
    "### Let's implement toy pp example"
   ]
  },
  {
   "cell_type": "code",
   "execution_count": null,
   "metadata": {},
   "outputs": [],
   "source": [
    "import random\n",
    "\n",
    "import numpy as np\n",
    "\n",
    "import torch\n",
    "from torch import nn\n",
    "from torch.utils.data import DataLoader\n",
    "from torchvision import datasets\n",
    "from torchvision.transforms import ToTensor"
   ]
  },
  {
   "cell_type": "code",
   "execution_count": null,
   "metadata": {},
   "outputs": [],
   "source": [
    "# set seed for reproducibility\n",
    "\n",
    "np.random.seed(0)\n",
    "torch.manual_seed(0)\n",
    "torch.backends.cudnn.deterministic = True"
   ]
  },
  {
   "cell_type": "code",
   "execution_count": null,
   "metadata": {},
   "outputs": [],
   "source": [
    "# We will use FashionMNIST dataset\n",
    "\n",
    "training_data = datasets.FashionMNIST(\n",
    "    root=\"data\",\n",
    "    train=True,\n",
    "    download=True,\n",
    "    transform=ToTensor()\n",
    ")\n",
    "\n",
    "test_data = datasets.FashionMNIST(\n",
    "    root=\"data\",\n",
    "    train=False,\n",
    "    download=True,\n",
    "    transform=ToTensor()\n",
    ")\n",
    "\n",
    "train_dataloader = DataLoader(training_data, batch_size = 32)\n",
    "test_dataloader = DataLoader(test_data, batch_size = 32)\n",
    "\n",
    "train_dataloader.dataset[0][0].shape"
   ]
  },
  {
   "cell_type": "code",
   "execution_count": null,
   "metadata": {},
   "outputs": [],
   "source": [
    "class SingleNeuralNetwork(nn.Module):\n",
    "    def __init__(self):\n",
    "        super(SingleNeuralNetwork, self).__init__()\n",
    "        self.flatten = nn.Flatten()\n",
    "        self.linear_relu_stack = nn.Sequential(\n",
    "            nn.Linear(28*28, 512),\n",
    "            nn.ReLU(),\n",
    "            nn.Linear(512, 256),\n",
    "            nn.ReLU(),\n",
    "            nn.Linear(256, 10),\n",
    "        )\n",
    "\n",
    "    def forward(self, x):\n",
    "        x = self.flatten(x)\n",
    "        logits = self.linear_relu_stack(x)\n",
    "        return logits\n",
    "    \n",
    "my_single_net = SingleNeuralNetwork()\n",
    "my_single_net"
   ]
  },
  {
   "cell_type": "code",
   "execution_count": null,
   "metadata": {},
   "outputs": [],
   "source": [
    "def single_train_loop(dataloader, model, loss_fn, optimizer):\n",
    "    size = len(dataloader.dataset)\n",
    "    for batch, (X, y) in enumerate(dataloader):\n",
    "        optimizer.zero_grad()\n",
    "\n",
    "        pred = model(X)\n",
    "        loss = loss_fn(pred, y)\n",
    "        loss.backward(retain_graph = True)\n",
    "        optimizer.step()\n",
    "\n",
    "        if batch % 1000 == 0:\n",
    "            loss, current = loss.item(), batch * len(X)\n",
    "            print(f\"train loss : {loss:>7f} [{current:>5d}/{size:>5d}]\")\n",
    "\n",
    "def single_test_loop(dataloader, model, loss_fn):\n",
    "    size = len(dataloader.dataset)\n",
    "    num_batches = len(dataloader)\n",
    "    test_loss, correct = 0, 0\n",
    "\n",
    "    with torch.no_grad():\n",
    "        for X , y in dataloader:\n",
    "            pred = model(X)\n",
    "            test_loss += loss_fn(pred, y).item()\n",
    "            correct += (pred.argmax(1) == y).type(torch.float).sum().item()\n",
    "    test_loss /= num_batches\n",
    "    correct /= size\n",
    "    print(f\"Test Error : \\n Accuracy : {(100*correct):>0.1f}%, Avg loss : {test_loss:>8f} \\n\")"
   ]
  },
  {
   "cell_type": "code",
   "execution_count": null,
   "metadata": {},
   "outputs": [],
   "source": [
    "loss_fn = nn.CrossEntropyLoss()\n",
    "\n",
    "# set hyperparams\n",
    "learning_rate = 1e-3\n",
    "epochs = 5\n",
    "\n",
    "single_optimizer = torch.optim.SGD(my_single_net.parameters(), lr = learning_rate)"
   ]
  },
  {
   "cell_type": "code",
   "execution_count": null,
   "metadata": {},
   "outputs": [],
   "source": [
    "for t in range(epochs):\n",
    "    print(f\"Epoch {t+1}\\n-----------------\")\n",
    "    single_train_loop(train_dataloader, my_single_net, loss_fn, single_optimizer)\n",
    "    single_test_loop(test_dataloader, my_single_net, loss_fn)\n",
    "print(\"Done!\")"
   ]
  },
  {
   "cell_type": "code",
   "execution_count": null,
   "metadata": {},
   "outputs": [],
   "source": [
    "class NeuralNetwork1(nn.Module):\n",
    "    def __init__(self):\n",
    "        super(NeuralNetwork1, self).__init__()\n",
    "        self.flatten = nn.Flatten()\n",
    "        self.linear_relu_stack = nn.Sequential(\n",
    "            nn.Linear(28*28, 512),\n",
    "            nn.ReLU(),\n",
    "        )\n",
    "\n",
    "    def forward(self, x):\n",
    "        x = self.flatten(x)\n",
    "        logits = self.linear_relu_stack(x)\n",
    "        return logits\n",
    "\n",
    "class NeuralNetwork2(nn.Module):\n",
    "    def __init__(self):\n",
    "        super(NeuralNetwork2, self).__init__()\n",
    "        self.linear_relu_stack = nn.Sequential(\n",
    "            nn.Linear(512, 256),\n",
    "            nn.ReLU(),\n",
    "            nn.Linear(256, 10),\n",
    "        )\n",
    "\n",
    "    def forward(self, x):\n",
    "        logits = self.linear_relu_stack(x)\n",
    "        return logits\n",
    "\n",
    "model1 = NeuralNetwork1()\n",
    "model2 = NeuralNetwork2()"
   ]
  },
  {
   "cell_type": "code",
   "execution_count": null,
   "metadata": {},
   "outputs": [],
   "source": [
    "optimizer1 = torch.optim.SGD(model1.parameters(), lr = learning_rate)\n",
    "optimizer2 = torch.optim.SGD(model2.parameters(), lr = learning_rate)"
   ]
  },
  {
   "attachments": {},
   "cell_type": "markdown",
   "metadata": {},
   "source": [
    "Let's Complete pipeline parallel train loop"
   ]
  },
  {
   "cell_type": "code",
   "execution_count": null,
   "metadata": {},
   "outputs": [],
   "source": [
    "def pp_train_loop(dataloader, model1, model2, loss_fn, optimizer1, optimizer2):\n",
    "    size = len(dataloader.dataset)\n",
    "    for batch, (X, y) in enumerate(dataloader):\n",
    "        pred1 = model1(X)\n",
    "\n",
    "        # input of model2 forward is output of model1 forward!\n",
    "        # Your codes start here\n",
    "        pred2 = \n",
    "        # Your codes end here\n",
    "\n",
    "        # loss can be obtained with output of model2\n",
    "        # Your codes start here\n",
    "        loss2 = \n",
    "        # Your codes end here\n",
    "\n",
    "        optimizer2.zero_grad()\n",
    "        pred1.retain_grad()\n",
    "        loss2.backward(retain_graph = True)\n",
    "        inter_grad = pred1.grad\n",
    "        optimizer2.step()\n",
    "\n",
    "        optimizer1.zero_grad()\n",
    "\n",
    "        # input of model1 backward is output of model2 backward!\n",
    "        # Your codes start here\n",
    "        pred1_grad = \n",
    "        # Your codes end here\n",
    "        pred1.backward(pred1_grad)\n",
    "        optimizer1.step()\n",
    "\n",
    "        if batch % 1000 == 0:\n",
    "            loss2, current = loss2.item(), batch * len(X)\n",
    "            print(f\"loss : {loss2:>7f} [{current:>5d}/{size:>5d}]\")\n",
    "\n",
    "def pp_test_loop(dataloader, model1, model2, loss_fn):\n",
    "    size = len(dataloader.dataset)\n",
    "    num_batches = len(dataloader)\n",
    "    test_loss, correct = 0, 0\n",
    "\n",
    "    with torch.no_grad():\n",
    "        for X , y in dataloader:\n",
    "            pred1 = model1(X)\n",
    "            pred2 = model2(pred1)\n",
    "            test_loss += loss_fn(pred2, y).item()\n",
    "            correct += (pred2.argmax(1) == y).type(torch.float).sum().item()\n",
    "    test_loss /= num_batches\n",
    "    correct /= size\n",
    "    print(f\"Test Error : \\n Accuracy : {(100*correct):>0.1f}%, Avg loss : {test_loss:>8f} \\n\")\n",
    "\n",
    "for t in range(epochs):\n",
    "    print(f\"Epoch {t+1}\\n-----------------\")\n",
    "    pp_train_loop(train_dataloader, model1, model2, loss_fn, optimizer1, optimizer2)\n",
    "    pp_test_loop(test_dataloader, model1, model2, loss_fn)\n",
    "print(\"Done!\")"
   ]
  },
  {
   "cell_type": "code",
   "execution_count": null,
   "metadata": {},
   "outputs": [],
   "source": [
    "single_net_param_sum = 0\n",
    "for param in my_single_net.parameters():\n",
    "    flattened_param = param.reshape(1,-1)\n",
    "    # Your codes start here\n",
    "    ? += len(flattened_param[0])\n",
    "    # Your codes end here\n",
    "single_net_param_sum"
   ]
  },
  {
   "cell_type": "code",
   "execution_count": null,
   "metadata": {},
   "outputs": [],
   "source": [
    "partitioned_net_param_sum = 0\n",
    "for param in model1.parameters():\n",
    "    flattened_param = param.reshape(1,-1)\n",
    "    # Your codes start here\n",
    "    ? += len(flattened_param[0])\n",
    "    # Your codes end here\n",
    "for param in model2.parameters():\n",
    "    flattened_param = param.reshape(1,-1)\n",
    "    # Your codes start here\n",
    "    ? += len(flattened_param[0])\n",
    "    # Your codes end here\n",
    "partitioned_net_param_sum"
   ]
  }
 ],
 "metadata": {
  "kernelspec": {
   "display_name": "hugging",
   "language": "python",
   "name": "python3"
  },
  "language_info": {
   "codemirror_mode": {
    "name": "ipython",
    "version": 3
   },
   "file_extension": ".py",
   "mimetype": "text/x-python",
   "name": "python",
   "nbconvert_exporter": "python",
   "pygments_lexer": "ipython3",
   "version": "3.9.7"
  },
  "orig_nbformat": 4
 },
 "nbformat": 4,
 "nbformat_minor": 2
}
