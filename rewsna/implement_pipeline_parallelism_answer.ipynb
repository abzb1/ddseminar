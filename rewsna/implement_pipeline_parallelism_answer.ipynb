{
 "cells": [
  {
   "attachments": {},
   "cell_type": "markdown",
   "metadata": {},
   "source": [
    "### Let's implement toy pp example"
   ]
  },
  {
   "cell_type": "code",
   "execution_count": 1,
   "metadata": {},
   "outputs": [
    {
     "name": "stderr",
     "output_type": "stream",
     "text": [
      "/home/ohs/anaconda3/envs/torch110/lib/python3.9/site-packages/tqdm/auto.py:22: TqdmWarning: IProgress not found. Please update jupyter and ipywidgets. See https://ipywidgets.readthedocs.io/en/stable/user_install.html\n",
      "  from .autonotebook import tqdm as notebook_tqdm\n"
     ]
    }
   ],
   "source": [
    "import random\n",
    "\n",
    "import numpy as np\n",
    "\n",
    "import torch\n",
    "from torch import nn\n",
    "from torch.utils.data import DataLoader\n",
    "from torchvision import datasets\n",
    "from torchvision.transforms import ToTensor"
   ]
  },
  {
   "cell_type": "code",
   "execution_count": 2,
   "metadata": {},
   "outputs": [],
   "source": [
    "# set seed for reproducibility\n",
    "\n",
    "np.random.seed(0)\n",
    "torch.manual_seed(0)\n",
    "torch.backends.cudnn.deterministic = True"
   ]
  },
  {
   "cell_type": "code",
   "execution_count": 3,
   "metadata": {},
   "outputs": [
    {
     "name": "stdout",
     "output_type": "stream",
     "text": [
      "Downloading http://fashion-mnist.s3-website.eu-central-1.amazonaws.com/train-images-idx3-ubyte.gz\n",
      "Downloading http://fashion-mnist.s3-website.eu-central-1.amazonaws.com/train-images-idx3-ubyte.gz to data/FashionMNIST/raw/train-images-idx3-ubyte.gz\n"
     ]
    },
    {
     "name": "stderr",
     "output_type": "stream",
     "text": [
      "100%|██████████| 26421880/26421880 [00:03<00:00, 6779296.49it/s] \n"
     ]
    },
    {
     "name": "stdout",
     "output_type": "stream",
     "text": [
      "Extracting data/FashionMNIST/raw/train-images-idx3-ubyte.gz to data/FashionMNIST/raw\n",
      "\n",
      "Downloading http://fashion-mnist.s3-website.eu-central-1.amazonaws.com/train-labels-idx1-ubyte.gz\n",
      "Downloading http://fashion-mnist.s3-website.eu-central-1.amazonaws.com/train-labels-idx1-ubyte.gz to data/FashionMNIST/raw/train-labels-idx1-ubyte.gz\n"
     ]
    },
    {
     "name": "stderr",
     "output_type": "stream",
     "text": [
      "100%|██████████| 29515/29515 [00:00<00:00, 117665.79it/s]\n"
     ]
    },
    {
     "name": "stdout",
     "output_type": "stream",
     "text": [
      "Extracting data/FashionMNIST/raw/train-labels-idx1-ubyte.gz to data/FashionMNIST/raw\n",
      "\n",
      "Downloading http://fashion-mnist.s3-website.eu-central-1.amazonaws.com/t10k-images-idx3-ubyte.gz\n",
      "Downloading http://fashion-mnist.s3-website.eu-central-1.amazonaws.com/t10k-images-idx3-ubyte.gz to data/FashionMNIST/raw/t10k-images-idx3-ubyte.gz\n"
     ]
    },
    {
     "name": "stderr",
     "output_type": "stream",
     "text": [
      "100%|██████████| 4422102/4422102 [00:09<00:00, 483862.69it/s] \n"
     ]
    },
    {
     "name": "stdout",
     "output_type": "stream",
     "text": [
      "Extracting data/FashionMNIST/raw/t10k-images-idx3-ubyte.gz to data/FashionMNIST/raw\n",
      "\n",
      "Downloading http://fashion-mnist.s3-website.eu-central-1.amazonaws.com/t10k-labels-idx1-ubyte.gz\n",
      "Downloading http://fashion-mnist.s3-website.eu-central-1.amazonaws.com/t10k-labels-idx1-ubyte.gz to data/FashionMNIST/raw/t10k-labels-idx1-ubyte.gz\n"
     ]
    },
    {
     "name": "stderr",
     "output_type": "stream",
     "text": [
      "100%|██████████| 5148/5148 [00:00<00:00, 9239314.07it/s]"
     ]
    },
    {
     "name": "stdout",
     "output_type": "stream",
     "text": [
      "Extracting data/FashionMNIST/raw/t10k-labels-idx1-ubyte.gz to data/FashionMNIST/raw\n",
      "\n"
     ]
    },
    {
     "name": "stderr",
     "output_type": "stream",
     "text": [
      "\n"
     ]
    },
    {
     "data": {
      "text/plain": [
       "torch.Size([1, 28, 28])"
      ]
     },
     "execution_count": 3,
     "metadata": {},
     "output_type": "execute_result"
    }
   ],
   "source": [
    "# We will use FashionMNIST dataset\n",
    "\n",
    "training_data = datasets.FashionMNIST(\n",
    "    root=\"data\",\n",
    "    train=True,\n",
    "    download=True,\n",
    "    transform=ToTensor()\n",
    ")\n",
    "\n",
    "test_data = datasets.FashionMNIST(\n",
    "    root=\"data\",\n",
    "    train=False,\n",
    "    download=True,\n",
    "    transform=ToTensor()\n",
    ")\n",
    "\n",
    "train_dataloader = DataLoader(training_data, batch_size = 32)\n",
    "test_dataloader = DataLoader(test_data, batch_size = 32)\n",
    "\n",
    "train_dataloader.dataset[0][0].shape"
   ]
  },
  {
   "cell_type": "code",
   "execution_count": 4,
   "metadata": {},
   "outputs": [
    {
     "data": {
      "text/plain": [
       "SingleNeuralNetwork(\n",
       "  (flatten): Flatten(start_dim=1, end_dim=-1)\n",
       "  (linear_relu_stack): Sequential(\n",
       "    (0): Linear(in_features=784, out_features=512, bias=True)\n",
       "    (1): ReLU()\n",
       "    (2): Linear(in_features=512, out_features=256, bias=True)\n",
       "    (3): ReLU()\n",
       "    (4): Linear(in_features=256, out_features=10, bias=True)\n",
       "  )\n",
       ")"
      ]
     },
     "execution_count": 4,
     "metadata": {},
     "output_type": "execute_result"
    }
   ],
   "source": [
    "class SingleNeuralNetwork(nn.Module):\n",
    "    def __init__(self):\n",
    "        super(SingleNeuralNetwork, self).__init__()\n",
    "        self.flatten = nn.Flatten()\n",
    "        self.linear_relu_stack = nn.Sequential(\n",
    "            nn.Linear(28*28, 512),\n",
    "            nn.ReLU(),\n",
    "            nn.Linear(512, 256),\n",
    "            nn.ReLU(),\n",
    "            nn.Linear(256, 10),\n",
    "        )\n",
    "\n",
    "    def forward(self, x):\n",
    "        x = self.flatten(x)\n",
    "        logits = self.linear_relu_stack(x)\n",
    "        return logits\n",
    "    \n",
    "my_single_net = SingleNeuralNetwork()\n",
    "my_single_net"
   ]
  },
  {
   "cell_type": "code",
   "execution_count": 5,
   "metadata": {},
   "outputs": [],
   "source": [
    "def single_train_loop(dataloader, model, loss_fn, optimizer):\n",
    "    size = len(dataloader.dataset)\n",
    "    for batch, (X, y) in enumerate(dataloader):\n",
    "        optimizer.zero_grad()\n",
    "\n",
    "        pred = model(X)\n",
    "        loss = loss_fn(pred, y)\n",
    "        loss.backward(retain_graph = True)\n",
    "        optimizer.step()\n",
    "\n",
    "        if batch % 1000 == 0:\n",
    "            loss, current = loss.item(), batch * len(X)\n",
    "            print(f\"train loss : {loss:>7f} [{current:>5d}/{size:>5d}]\")\n",
    "\n",
    "def single_test_loop(dataloader, model, loss_fn):\n",
    "    size = len(dataloader.dataset)\n",
    "    num_batches = len(dataloader)\n",
    "    test_loss, correct = 0, 0\n",
    "\n",
    "    with torch.no_grad():\n",
    "        for X , y in dataloader:\n",
    "            pred = model(X)\n",
    "            test_loss += loss_fn(pred, y).item()\n",
    "            correct += (pred.argmax(1) == y).type(torch.float).sum().item()\n",
    "    test_loss /= num_batches\n",
    "    correct /= size\n",
    "    print(f\"Test Error : \\n Accuracy : {(100*correct):>0.1f}%, Avg loss : {test_loss:>8f} \\n\")"
   ]
  },
  {
   "cell_type": "code",
   "execution_count": 6,
   "metadata": {},
   "outputs": [],
   "source": [
    "loss_fn = nn.CrossEntropyLoss()\n",
    "\n",
    "# set hyperparams\n",
    "learning_rate = 1e-3\n",
    "batch_size = 64\n",
    "epochs = 5\n",
    "\n",
    "single_optimizer = torch.optim.SGD(my_single_net.parameters(), lr = learning_rate)"
   ]
  },
  {
   "cell_type": "code",
   "execution_count": 7,
   "metadata": {},
   "outputs": [
    {
     "name": "stdout",
     "output_type": "stream",
     "text": [
      "Epoch 1\n",
      "-----------------\n",
      "train loss : 2.303715 [    0/60000]\n",
      "train loss : 2.134295 [32000/60000]\n",
      "Test Error : \n",
      " Accuracy : 59.5%, Avg loss : 1.950056 \n",
      "\n",
      "Epoch 2\n",
      "-----------------\n",
      "train loss : 1.944278 [    0/60000]\n",
      "train loss : 1.494424 [32000/60000]\n",
      "Test Error : \n",
      " Accuracy : 62.0%, Avg loss : 1.306143 \n",
      "\n",
      "Epoch 3\n",
      "-----------------\n",
      "train loss : 1.313682 [    0/60000]\n",
      "train loss : 1.045949 [32000/60000]\n",
      "Test Error : \n",
      " Accuracy : 65.2%, Avg loss : 1.012107 \n",
      "\n",
      "Epoch 4\n",
      "-----------------\n",
      "train loss : 0.981220 [    0/60000]\n",
      "train loss : 0.852415 [32000/60000]\n",
      "Test Error : \n",
      " Accuracy : 67.1%, Avg loss : 0.880317 \n",
      "\n",
      "Epoch 5\n",
      "-----------------\n",
      "train loss : 0.815726 [    0/60000]\n",
      "train loss : 0.753456 [32000/60000]\n",
      "Test Error : \n",
      " Accuracy : 69.2%, Avg loss : 0.807341 \n",
      "\n",
      "Done!\n"
     ]
    }
   ],
   "source": [
    "for t in range(epochs):\n",
    "    print(f\"Epoch {t+1}\\n-----------------\")\n",
    "    single_train_loop(train_dataloader, my_single_net, loss_fn, single_optimizer)\n",
    "    single_test_loop(test_dataloader, my_single_net, loss_fn)\n",
    "print(\"Done!\")"
   ]
  },
  {
   "cell_type": "code",
   "execution_count": 8,
   "metadata": {},
   "outputs": [],
   "source": [
    "class NeuralNetwork1(nn.Module):\n",
    "    def __init__(self):\n",
    "        super(NeuralNetwork1, self).__init__()\n",
    "        self.flatten = nn.Flatten()\n",
    "        self.linear_relu_stack = nn.Sequential(\n",
    "            nn.Linear(28*28, 512),\n",
    "            nn.ReLU(),\n",
    "        )\n",
    "\n",
    "    def forward(self, x):\n",
    "        x = self.flatten(x)\n",
    "        logits = self.linear_relu_stack(x)\n",
    "        return logits\n",
    "\n",
    "class NeuralNetwork2(nn.Module):\n",
    "    def __init__(self):\n",
    "        super(NeuralNetwork2, self).__init__()\n",
    "        self.linear_relu_stack = nn.Sequential(\n",
    "            nn.Linear(512, 256),\n",
    "            nn.ReLU(),\n",
    "            nn.Linear(256, 10),\n",
    "        )\n",
    "\n",
    "    def forward(self, x):\n",
    "        logits = self.linear_relu_stack(x)\n",
    "        return logits\n",
    "\n",
    "model1 = NeuralNetwork1()\n",
    "model2 = NeuralNetwork2()"
   ]
  },
  {
   "cell_type": "code",
   "execution_count": 9,
   "metadata": {},
   "outputs": [],
   "source": [
    "optimizer1 = torch.optim.SGD(model1.parameters(), lr = learning_rate)\n",
    "optimizer2 = torch.optim.SGD(model2.parameters(), lr = learning_rate)"
   ]
  },
  {
   "attachments": {},
   "cell_type": "markdown",
   "metadata": {},
   "source": [
    "Let's Complete pipeline parallel train loop"
   ]
  },
  {
   "cell_type": "code",
   "execution_count": 10,
   "metadata": {},
   "outputs": [
    {
     "name": "stdout",
     "output_type": "stream",
     "text": [
      "Epoch 1\n",
      "-----------------\n",
      "loss : 2.301928 [    0/60000]\n",
      "loss : 2.130015 [32000/60000]\n",
      "Test Error : \n",
      " Accuracy : 56.9%, Avg loss : 1.944549 \n",
      "\n",
      "Epoch 2\n",
      "-----------------\n",
      "loss : 1.929348 [    0/60000]\n",
      "loss : 1.456204 [32000/60000]\n",
      "Test Error : \n",
      " Accuracy : 63.4%, Avg loss : 1.314913 \n",
      "\n",
      "Epoch 3\n",
      "-----------------\n",
      "loss : 1.310612 [    0/60000]\n",
      "loss : 1.047293 [32000/60000]\n",
      "Test Error : \n",
      " Accuracy : 65.4%, Avg loss : 1.016318 \n",
      "\n",
      "Epoch 4\n",
      "-----------------\n",
      "loss : 0.985983 [    0/60000]\n",
      "loss : 0.856761 [32000/60000]\n",
      "Test Error : \n",
      " Accuracy : 67.9%, Avg loss : 0.877020 \n",
      "\n",
      "Epoch 5\n",
      "-----------------\n",
      "loss : 0.818541 [    0/60000]\n",
      "loss : 0.758251 [32000/60000]\n",
      "Test Error : \n",
      " Accuracy : 70.1%, Avg loss : 0.800100 \n",
      "\n",
      "Done!\n"
     ]
    }
   ],
   "source": [
    "def pp_train_loop(dataloader, model1, model2, loss_fn, optimizer1, optimizer2):\n",
    "    size = len(dataloader.dataset)\n",
    "    for batch, (X, y) in enumerate(dataloader):\n",
    "        pred1 = model1(X)\n",
    "\n",
    "        # input of model2 forward is output of model1 forward!\n",
    "        # Your codes start here\n",
    "        pred2 = model2(pred1)\n",
    "        # Your codes end here\n",
    "\n",
    "        # loss can be obtained with output of model2\n",
    "        # Your codes start here\n",
    "        loss2 = loss_fn(pred2, y)\n",
    "        # Your codes end here\n",
    "\n",
    "        optimizer2.zero_grad()\n",
    "        pred1.retain_grad()\n",
    "        loss2.backward(retain_graph = True)\n",
    "        inter_grad = pred1.grad\n",
    "        optimizer2.step()\n",
    "\n",
    "        optimizer1.zero_grad()\n",
    "\n",
    "        # input of model1 backward is output of model2 backward!\n",
    "        # Your codes start here\n",
    "        pred1.backward(inter_grad)\n",
    "        # Your codes end here\n",
    "\n",
    "        optimizer1.step()\n",
    "\n",
    "        if batch % 1000 == 0:\n",
    "            loss2, current = loss2.item(), batch * len(X)\n",
    "            print(f\"loss : {loss2:>7f} [{current:>5d}/{size:>5d}]\")\n",
    "\n",
    "def pp_test_loop(dataloader, model1, model2, loss_fn):\n",
    "    size = len(dataloader.dataset)\n",
    "    num_batches = len(dataloader)\n",
    "    test_loss, correct = 0, 0\n",
    "\n",
    "    with torch.no_grad():\n",
    "        for X , y in dataloader:\n",
    "            pred1 = model1(X)\n",
    "            pred2 = model2(pred1)\n",
    "            test_loss += loss_fn(pred2, y).item()\n",
    "            correct += (pred2.argmax(1) == y).type(torch.float).sum().item()\n",
    "    test_loss /= num_batches\n",
    "    correct /= size\n",
    "    print(f\"Test Error : \\n Accuracy : {(100*correct):>0.1f}%, Avg loss : {test_loss:>8f} \\n\")\n",
    "\n",
    "for t in range(epochs):\n",
    "    print(f\"Epoch {t+1}\\n-----------------\")\n",
    "    pp_train_loop(train_dataloader, model1, model2, loss_fn, optimizer1, optimizer2)\n",
    "    pp_test_loop(test_dataloader, model1, model2, loss_fn)\n",
    "print(\"Done!\")"
   ]
  },
  {
   "cell_type": "code",
   "execution_count": 13,
   "metadata": {},
   "outputs": [
    {
     "data": {
      "text/plain": [
       "535818"
      ]
     },
     "execution_count": 13,
     "metadata": {},
     "output_type": "execute_result"
    }
   ],
   "source": [
    "single_net_param_sum = 0\n",
    "for param in my_single_net.parameters():\n",
    "    flattened_param = param.reshape(1,-1)\n",
    "    single_net_param_sum += len(flattened_param[0])\n",
    "single_net_param_sum"
   ]
  },
  {
   "cell_type": "code",
   "execution_count": 14,
   "metadata": {},
   "outputs": [
    {
     "data": {
      "text/plain": [
       "535818"
      ]
     },
     "execution_count": 14,
     "metadata": {},
     "output_type": "execute_result"
    }
   ],
   "source": [
    "partitioned_net_param_sum = 0\n",
    "for param in model1.parameters():\n",
    "    flattened_param = param.reshape(1,-1)\n",
    "    partitioned_net_param_sum += len(flattened_param[0])\n",
    "for param in model2.parameters():\n",
    "    flattened_param = param.reshape(1,-1)\n",
    "    partitioned_net_param_sum += len(flattened_param[0])\n",
    "partitioned_net_param_sum"
   ]
  }
 ],
 "metadata": {
  "kernelspec": {
   "display_name": "hugging",
   "language": "python",
   "name": "python3"
  },
  "language_info": {
   "codemirror_mode": {
    "name": "ipython",
    "version": 3
   },
   "file_extension": ".py",
   "mimetype": "text/x-python",
   "name": "python",
   "nbconvert_exporter": "python",
   "pygments_lexer": "ipython3",
   "version": "3.9.7"
  },
  "orig_nbformat": 4
 },
 "nbformat": 4,
 "nbformat_minor": 2
}
