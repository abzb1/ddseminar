{
 "cells": [
  {
   "cell_type": "code",
   "execution_count": 23,
   "metadata": {},
   "outputs": [],
   "source": [
    "import random\n",
    "\n",
    "import numpy as np\n",
    "\n",
    "import torch"
   ]
  },
  {
   "cell_type": "code",
   "execution_count": 24,
   "metadata": {},
   "outputs": [],
   "source": [
    "# set seed for reproducibility\n",
    "\n",
    "np.random.seed(0)\n",
    "torch.manual_seed(0)\n",
    "torch.backends.cudnn.deterministic = True\n",
    "torch.manual_seed(0)\n",
    "random.seed(0)"
   ]
  },
  {
   "cell_type": "code",
   "execution_count": 25,
   "metadata": {},
   "outputs": [
    {
     "data": {
      "text/plain": [
       "(tensor([[0.4963, 0.7682, 0.0885, 0.1320],\n",
       "         [0.3074, 0.6341, 0.4901, 0.8964],\n",
       "         [0.4556, 0.6323, 0.3489, 0.4017],\n",
       "         [0.0223, 0.1689, 0.2939, 0.5185]]),\n",
       " tensor([[0.6977, 0.8000, 0.1610, 0.2823],\n",
       "         [0.6816, 0.9152, 0.3971, 0.8742],\n",
       "         [0.4194, 0.5529, 0.9527, 0.0362],\n",
       "         [0.1852, 0.3734, 0.3051, 0.9320]]),\n",
       " tensor([[0.1759, 0.2698, 0.1507, 0.0317],\n",
       "         [0.2081, 0.9298, 0.7231, 0.7423],\n",
       "         [0.5263, 0.2437, 0.5846, 0.0332],\n",
       "         [0.1387, 0.2422, 0.8155, 0.7932]]))"
      ]
     },
     "execution_count": 25,
     "metadata": {},
     "output_type": "execute_result"
    }
   ],
   "source": [
    "x = torch.rand((4,4))\n",
    "w1 = torch.rand((4,4))\n",
    "w2 = torch.rand((4,4))\n",
    "x, w1, w2"
   ]
  },
  {
   "cell_type": "code",
   "execution_count": 26,
   "metadata": {},
   "outputs": [],
   "source": [
    "def get_original_result(input_data, weight1, weight2):\n",
    "    a1 = torch.matmul(input_data, weight1)\n",
    "    a2 = torch.matmul(a1, weight2)\n",
    "    return a2\n",
    "\n",
    "original = get_original_result(x, w1, w2)"
   ]
  },
  {
   "cell_type": "code",
   "execution_count": 27,
   "metadata": {},
   "outputs": [],
   "source": [
    "def get_tensor_parallel_result(data_input, w1, w2):\n",
    "\n",
    "    # column-wise split w1\n",
    "    w1_1, w1_2 = w1.split(2, dim=1)\n",
    "\n",
    "    # row-wise split w2\n",
    "    w2_1, w2_2 = w2.split(2, dim=0)\n",
    "\n",
    "    # upper side result\n",
    "    # your code starts here\n",
    "    upper_side_result = data_input.matmul(w1_1).matmul(w2_1)\n",
    "    # your code ends here\n",
    "\n",
    "    # lower side result\n",
    "    # your code starts here\n",
    "    lower_side_result = data_input.matmul(w1_2).matmul(w2_2)\n",
    "    # your code ends here\n",
    "\n",
    "    reduced_result = upper_side_result + lower_side_result\n",
    "\n",
    "    return reduced_result\n",
    "\n",
    "tp_result = get_tensor_parallel_result(x, w1, w2)"
   ]
  },
  {
   "cell_type": "code",
   "execution_count": 28,
   "metadata": {},
   "outputs": [
    {
     "data": {
      "text/plain": [
       "(tensor([[0.8115, 1.7169, 2.0695, 1.6799],\n",
       "         [1.2327, 2.2220, 3.0164, 2.3150],\n",
       "         [0.9966, 1.9062, 2.4030, 1.8587],\n",
       "         [0.5292, 0.8668, 1.2606, 0.9341]]),\n",
       " tensor([[0.8115, 1.7169, 2.0695, 1.6799],\n",
       "         [1.2327, 2.2220, 3.0164, 2.3150],\n",
       "         [0.9966, 1.9062, 2.4030, 1.8587],\n",
       "         [0.5292, 0.8668, 1.2606, 0.9341]]))"
      ]
     },
     "execution_count": 28,
     "metadata": {},
     "output_type": "execute_result"
    }
   ],
   "source": [
    "original, tp_result"
   ]
  },
  {
   "cell_type": "code",
   "execution_count": null,
   "metadata": {},
   "outputs": [],
   "source": []
  }
 ],
 "metadata": {
  "kernelspec": {
   "display_name": "torch110",
   "language": "python",
   "name": "python3"
  },
  "language_info": {
   "codemirror_mode": {
    "name": "ipython",
    "version": 3
   },
   "file_extension": ".py",
   "mimetype": "text/x-python",
   "name": "python",
   "nbconvert_exporter": "python",
   "pygments_lexer": "ipython3",
   "version": "3.9.7"
  },
  "orig_nbformat": 4
 },
 "nbformat": 4,
 "nbformat_minor": 2
}
